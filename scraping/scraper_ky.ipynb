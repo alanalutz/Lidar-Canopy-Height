{
  "cells": [
    {
      "cell_type": "code",
      "execution_count": null,
      "metadata": {
        "id": "xM-8C51gUJuq"
      },
      "outputs": [],
      "source": [
        "# Authenticate GCS\n",
        "from google.colab import auth\n",
        "auth.authenticate_user()"
      ]
    },
    {
      "cell_type": "code",
      "execution_count": null,
      "metadata": {
        "id": "xZ73FzHbUNRg"
      },
      "outputs": [],
      "source": [
        "# Initialize Google Cloud Storage client\n",
        "from google.cloud import storage\n",
        "project_id = 'skytruth-tech'\n",
        "client = storage.Client(project=project_id)\n",
        "\n",
        "# Access bucket\n",
        "bucket_name = 'mountaintop_mining'\n",
        "bucket = client.get_bucket(bucket_name)"
      ]
    },
    {
      "cell_type": "code",
      "execution_count": null,
      "metadata": {
        "id": "nFlx15QNwWGf"
      },
      "outputs": [],
      "source": [
        "import pandas as pd\n",
        "import requests\n",
        "from multiprocessing import Pool\n",
        "import time\n",
        "import math"
      ]
    },
    {
      "cell_type": "code",
      "execution_count": null,
      "metadata": {
        "id": "OB-V5fRfwnaX"
      },
      "outputs": [],
      "source": [
        "# Get table of tile IDs with Phase 1 and 2 download links\n",
        "csv = bucket.blob(f'lidar_data/tile_IDs/KY_tile_index_intersect.csv')\n",
        "csv.download_to_filename(f'/content/KY_tile_index_intersect.csv')\n",
        "df = pd.read_csv(f'/content/KY_tile_index_intersect.csv')\n",
        "rows = df.to_dict('records')"
      ]
    },
    {
      "cell_type": "code",
      "source": [
        "print(df['Tile_ID'].nunique())"
      ],
      "metadata": {
        "colab": {
          "base_uri": "https://localhost:8080/"
        },
        "id": "lwSXt5kTt83Z",
        "outputId": "52852161-2f2a-4839-fc2f-138c858eef28"
      },
      "execution_count": null,
      "outputs": [
        {
          "output_type": "stream",
          "name": "stdout",
          "text": [
            "15007\n"
          ]
        }
      ]
    },
    {
      "cell_type": "code",
      "execution_count": null,
      "metadata": {
        "id": "foYjz0O-kko1"
      },
      "outputs": [],
      "source": [
        "# test if the Phase2 download url exists\n",
        "def is_nan(value):\n",
        "    if isinstance(value, float) and math.isnan(value):\n",
        "        return True\n",
        "    elif isinstance(value, str) and value.lower() == 'nan':\n",
        "        return True\n",
        "    else:\n",
        "        return False"
      ]
    },
    {
      "cell_type": "code",
      "execution_count": null,
      "metadata": {
        "id": "aJr2L5mcdh1G"
      },
      "outputs": [],
      "source": [
        "# Define scraper function\n",
        "def scrape(row):\n",
        "  tile_ID = row['Tile_ID']\n",
        "  if is_nan(row['Phase2_download_url']):\n",
        "    url = row['Phase1_download_url']\n",
        "    year = row['Phase1_year']\n",
        "  else:\n",
        "    url = row['Phase2_download_url']\n",
        "    year = row['Phase2_year']\n",
        "  uploaded_file_name = f'lidar_data/ky/KY_{year}_{tile_ID}.laz'\n",
        "  uploaded_file = bucket.blob(uploaded_file_name)\n",
        "  if not uploaded_file.exists():\n",
        "    max_retries = 3\n",
        "    for attempt in range(max_retries):\n",
        "      try:\n",
        "        with requests.get(url, stream=True) as response: # Avoids downloading the file locally\n",
        "                if response.status_code == 200:\n",
        "                    uploaded_file.upload_from_file(response.raw)\n",
        "                    break\n",
        "      except requests.exceptions.RequestException as e: # Tries again if after waiting 5 sec if there is a connection error\n",
        "        time.sleep(5)"
      ]
    },
    {
      "cell_type": "code",
      "execution_count": null,
      "metadata": {
        "id": "v7fP1m1YdQRn"
      },
      "outputs": [],
      "source": [
        "# Parallelize for speed\n",
        "num_processes = 8\n",
        "\n",
        "with Pool(num_processes) as pool:\n",
        "        pool.map(scrape, rows)"
      ]
    }
  ],
  "metadata": {
    "colab": {
      "provenance": []
    },
    "kernelspec": {
      "display_name": "Python 3",
      "name": "python3"
    },
    "language_info": {
      "name": "python"
    }
  },
  "nbformat": 4,
  "nbformat_minor": 0
}